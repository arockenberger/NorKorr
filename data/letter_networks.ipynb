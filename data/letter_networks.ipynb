{
 "cells": [
  {
   "cell_type": "markdown",
   "metadata": {},
   "source": [
    "# NorKorr Letter Networks"
   ]
  },
  {
   "cell_type": "markdown",
   "metadata": {},
   "source": [
    "Case Camilla Collett. Network data is taken from the manuscript catalogue at the National Libary of Norway. The following steps were taken:\n",
    "\n",
    "* Go to HANSKE search at [https://www.nb.no/hanske/](https://www.nb.no/hanske/)\n",
    "* Navigate to search for shelf mark at [https://www.nb.no/hanske/signaturskjema.php](https://www.nb.no/hanske/signaturskjema.php)\n",
    "* Check the signature series is set on \"Brevs.\" and type \"3\" in the field named \"Hovednummer\"\n",
    "* Click the \"Send\" button (this might take some time)\n",
    "* Copy and Paste the list results into a Google spreadsheet\n",
    "* Import the spreadsheet into OpenRefine\n",
    "* Do data cleaning (basically, devide the strings of text into individual colums for sender/source and receiver/target and a couple of additional colums for date and URN (where applicable)\n",
    "* For drawing network graphs it's easiest with a table containing only colums with names, thus creating an edges-list\n",
    "* Export OpenRefine spreadsheet as .csv\n",
    "* Store .csv file in the NorKorr repository\n",
    "* For the purpose of this network analysis I created the file \"collett_network.csv\" and stored it in the /data folder"
   ]
  },
  {
   "cell_type": "markdown",
   "metadata": {},
   "source": [
    "## Preparing Python\n",
    "In order to run this program, you must first install python and import a couple of python libraries, namely:"
   ]
  },
  {
   "cell_type": "code",
   "execution_count": 3,
   "metadata": {},
   "outputs": [],
   "source": [
    "import csv # a library that handles .csv files\n",
    "import networkx as nx # a library for complex network analysis\n",
    "from operator import itemgetter\n",
    "import community # for this to work you must install the python-louvain v0.5"
   ]
  },
  {
   "cell_type": "markdown",
   "metadata": {},
   "source": [
    "We now have Python read our data in the .csv file."
   ]
  },
  {
   "cell_type": "code",
   "execution_count": 4,
   "metadata": {},
   "outputs": [],
   "source": [
    "with open('collett_network.csv', 'r') as edgecsv: # open file\n",
    "    edgereader = csv.reader(edgecsv) # read csc\n",
    "    edges = [tuple(e) for e in edgereader][1:] # retrieve data from csv"
   ]
  },
  {
   "cell_type": "markdown",
   "metadata": {},
   "source": [
    "Let's check if it was successful!"
   ]
  },
  {
   "cell_type": "code",
   "execution_count": 5,
   "metadata": {},
   "outputs": [
    {
     "name": "stdout",
     "output_type": "stream",
     "text": [
      "235\n"
     ]
    }
   ],
   "source": [
    "print(len(edges)) # this countes the total number of edges"
   ]
  },
  {
   "cell_type": "markdown",
   "metadata": {},
   "source": [
    "Now let's initialize a graph."
   ]
  },
  {
   "cell_type": "code",
   "execution_count": 6,
   "metadata": {},
   "outputs": [],
   "source": [
    "G = nx.Graph()"
   ]
  },
  {
   "cell_type": "code",
   "execution_count": 7,
   "metadata": {},
   "outputs": [],
   "source": [
    "G.add_edges_from(edges)"
   ]
  },
  {
   "cell_type": "code",
   "execution_count": 8,
   "metadata": {},
   "outputs": [
    {
     "name": "stdout",
     "output_type": "stream",
     "text": [
      "Name: \n",
      "Type: Graph\n",
      "Number of nodes: 23\n",
      "Number of edges: 24\n",
      "Average degree:   2.0870\n"
     ]
    }
   ],
   "source": [
    "print(nx.info(G))"
   ]
  },
  {
   "cell_type": "code",
   "execution_count": null,
   "metadata": {},
   "outputs": [],
   "source": []
  },
  {
   "cell_type": "code",
   "execution_count": null,
   "metadata": {},
   "outputs": [],
   "source": []
  }
 ],
 "metadata": {
  "kernelspec": {
   "display_name": "Python 3",
   "language": "python",
   "name": "python3"
  },
  "language_info": {
   "codemirror_mode": {
    "name": "ipython",
    "version": 3
   },
   "file_extension": ".py",
   "mimetype": "text/x-python",
   "name": "python",
   "nbconvert_exporter": "python",
   "pygments_lexer": "ipython3",
   "version": "3.6.5"
  }
 },
 "nbformat": 4,
 "nbformat_minor": 2
}
